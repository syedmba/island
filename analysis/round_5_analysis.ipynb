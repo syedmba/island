{
 "cells": [
  {
   "cell_type": "code",
   "execution_count": 1,
   "metadata": {},
   "outputs": [
    {
     "name": "stdout",
     "output_type": "stream",
     "text": [
      "Requirement already satisfied: numpy in /Library/Frameworks/Python.framework/Versions/3.10/lib/python3.10/site-packages (1.23.0)\n",
      "\n",
      "\u001b[1m[\u001b[0m\u001b[34;49mnotice\u001b[0m\u001b[1;39;49m]\u001b[0m\u001b[39;49m A new release of pip available: \u001b[0m\u001b[31;49m22.1.2\u001b[0m\u001b[39;49m -> \u001b[0m\u001b[32;49m24.0\u001b[0m\n",
      "\u001b[1m[\u001b[0m\u001b[34;49mnotice\u001b[0m\u001b[1;39;49m]\u001b[0m\u001b[39;49m To update, run: \u001b[0m\u001b[32;49mpip install --upgrade pip\u001b[0m\n",
      "Note: you may need to restart the kernel to use updated packages.\n",
      "Requirement already satisfied: pandas in /Library/Frameworks/Python.framework/Versions/3.10/lib/python3.10/site-packages (2.2.2)\n",
      "Requirement already satisfied: numpy>=1.22.4 in /Library/Frameworks/Python.framework/Versions/3.10/lib/python3.10/site-packages (from pandas) (1.23.0)\n",
      "Requirement already satisfied: python-dateutil>=2.8.2 in /Library/Frameworks/Python.framework/Versions/3.10/lib/python3.10/site-packages (from pandas) (2.8.2)\n",
      "Requirement already satisfied: pytz>=2020.1 in /Library/Frameworks/Python.framework/Versions/3.10/lib/python3.10/site-packages (from pandas) (2024.1)\n",
      "Requirement already satisfied: tzdata>=2022.7 in /Library/Frameworks/Python.framework/Versions/3.10/lib/python3.10/site-packages (from pandas) (2024.1)\n",
      "Requirement already satisfied: six>=1.5 in /Library/Frameworks/Python.framework/Versions/3.10/lib/python3.10/site-packages (from python-dateutil>=2.8.2->pandas) (1.16.0)\n",
      "\n",
      "\u001b[1m[\u001b[0m\u001b[34;49mnotice\u001b[0m\u001b[1;39;49m]\u001b[0m\u001b[39;49m A new release of pip available: \u001b[0m\u001b[31;49m22.1.2\u001b[0m\u001b[39;49m -> \u001b[0m\u001b[32;49m24.0\u001b[0m\n",
      "\u001b[1m[\u001b[0m\u001b[34;49mnotice\u001b[0m\u001b[1;39;49m]\u001b[0m\u001b[39;49m To update, run: \u001b[0m\u001b[32;49mpip install --upgrade pip\u001b[0m\n",
      "Note: you may need to restart the kernel to use updated packages.\n",
      "Requirement already satisfied: matplotlib in /Library/Frameworks/Python.framework/Versions/3.10/lib/python3.10/site-packages (3.8.4)\n",
      "Requirement already satisfied: fonttools>=4.22.0 in /Library/Frameworks/Python.framework/Versions/3.10/lib/python3.10/site-packages (from matplotlib) (4.51.0)\n",
      "Requirement already satisfied: python-dateutil>=2.7 in /Library/Frameworks/Python.framework/Versions/3.10/lib/python3.10/site-packages (from matplotlib) (2.8.2)\n",
      "Requirement already satisfied: packaging>=20.0 in /Library/Frameworks/Python.framework/Versions/3.10/lib/python3.10/site-packages (from matplotlib) (21.3)\n",
      "Requirement already satisfied: pyparsing>=2.3.1 in /Library/Frameworks/Python.framework/Versions/3.10/lib/python3.10/site-packages (from matplotlib) (3.0.9)\n",
      "Requirement already satisfied: contourpy>=1.0.1 in /Library/Frameworks/Python.framework/Versions/3.10/lib/python3.10/site-packages (from matplotlib) (1.2.1)\n",
      "Requirement already satisfied: cycler>=0.10 in /Library/Frameworks/Python.framework/Versions/3.10/lib/python3.10/site-packages (from matplotlib) (0.12.1)\n",
      "Requirement already satisfied: kiwisolver>=1.3.1 in /Library/Frameworks/Python.framework/Versions/3.10/lib/python3.10/site-packages (from matplotlib) (1.4.5)\n",
      "Requirement already satisfied: pillow>=8 in /Library/Frameworks/Python.framework/Versions/3.10/lib/python3.10/site-packages (from matplotlib) (10.3.0)\n",
      "Requirement already satisfied: numpy>=1.21 in /Library/Frameworks/Python.framework/Versions/3.10/lib/python3.10/site-packages (from matplotlib) (1.23.0)\n",
      "Requirement already satisfied: six>=1.5 in /Library/Frameworks/Python.framework/Versions/3.10/lib/python3.10/site-packages (from python-dateutil>=2.7->matplotlib) (1.16.0)\n",
      "\n",
      "\u001b[1m[\u001b[0m\u001b[34;49mnotice\u001b[0m\u001b[1;39;49m]\u001b[0m\u001b[39;49m A new release of pip available: \u001b[0m\u001b[31;49m22.1.2\u001b[0m\u001b[39;49m -> \u001b[0m\u001b[32;49m24.0\u001b[0m\n",
      "\u001b[1m[\u001b[0m\u001b[34;49mnotice\u001b[0m\u001b[1;39;49m]\u001b[0m\u001b[39;49m To update, run: \u001b[0m\u001b[32;49mpip install --upgrade pip\u001b[0m\n",
      "Note: you may need to restart the kernel to use updated packages.\n",
      "Requirement already satisfied: scikit-learn in /Library/Frameworks/Python.framework/Versions/3.10/lib/python3.10/site-packages (1.4.2)\n",
      "Requirement already satisfied: joblib>=1.2.0 in /Library/Frameworks/Python.framework/Versions/3.10/lib/python3.10/site-packages (from scikit-learn) (1.4.0)\n",
      "Requirement already satisfied: threadpoolctl>=2.0.0 in /Library/Frameworks/Python.framework/Versions/3.10/lib/python3.10/site-packages (from scikit-learn) (3.4.0)\n",
      "Requirement already satisfied: numpy>=1.19.5 in /Library/Frameworks/Python.framework/Versions/3.10/lib/python3.10/site-packages (from scikit-learn) (1.23.0)\n",
      "Requirement already satisfied: scipy>=1.6.0 in /Library/Frameworks/Python.framework/Versions/3.10/lib/python3.10/site-packages (from scikit-learn) (1.13.0)\n",
      "\n",
      "\u001b[1m[\u001b[0m\u001b[34;49mnotice\u001b[0m\u001b[1;39;49m]\u001b[0m\u001b[39;49m A new release of pip available: \u001b[0m\u001b[31;49m22.1.2\u001b[0m\u001b[39;49m -> \u001b[0m\u001b[32;49m24.0\u001b[0m\n",
      "\u001b[1m[\u001b[0m\u001b[34;49mnotice\u001b[0m\u001b[1;39;49m]\u001b[0m\u001b[39;49m To update, run: \u001b[0m\u001b[32;49mpip install --upgrade pip\u001b[0m\n",
      "Note: you may need to restart the kernel to use updated packages.\n",
      "Requirement already satisfied: seaborn in /Library/Frameworks/Python.framework/Versions/3.10/lib/python3.10/site-packages (0.13.2)\n",
      "Requirement already satisfied: pandas>=1.2 in /Library/Frameworks/Python.framework/Versions/3.10/lib/python3.10/site-packages (from seaborn) (2.2.2)\n",
      "Requirement already satisfied: numpy!=1.24.0,>=1.20 in /Library/Frameworks/Python.framework/Versions/3.10/lib/python3.10/site-packages (from seaborn) (1.23.0)\n",
      "Requirement already satisfied: matplotlib!=3.6.1,>=3.4 in /Library/Frameworks/Python.framework/Versions/3.10/lib/python3.10/site-packages (from seaborn) (3.8.4)\n",
      "Requirement already satisfied: packaging>=20.0 in /Library/Frameworks/Python.framework/Versions/3.10/lib/python3.10/site-packages (from matplotlib!=3.6.1,>=3.4->seaborn) (21.3)\n",
      "Requirement already satisfied: kiwisolver>=1.3.1 in /Library/Frameworks/Python.framework/Versions/3.10/lib/python3.10/site-packages (from matplotlib!=3.6.1,>=3.4->seaborn) (1.4.5)\n",
      "Requirement already satisfied: pyparsing>=2.3.1 in /Library/Frameworks/Python.framework/Versions/3.10/lib/python3.10/site-packages (from matplotlib!=3.6.1,>=3.4->seaborn) (3.0.9)\n",
      "Requirement already satisfied: contourpy>=1.0.1 in /Library/Frameworks/Python.framework/Versions/3.10/lib/python3.10/site-packages (from matplotlib!=3.6.1,>=3.4->seaborn) (1.2.1)\n",
      "Requirement already satisfied: pillow>=8 in /Library/Frameworks/Python.framework/Versions/3.10/lib/python3.10/site-packages (from matplotlib!=3.6.1,>=3.4->seaborn) (10.3.0)\n",
      "Requirement already satisfied: fonttools>=4.22.0 in /Library/Frameworks/Python.framework/Versions/3.10/lib/python3.10/site-packages (from matplotlib!=3.6.1,>=3.4->seaborn) (4.51.0)\n",
      "Requirement already satisfied: python-dateutil>=2.7 in /Library/Frameworks/Python.framework/Versions/3.10/lib/python3.10/site-packages (from matplotlib!=3.6.1,>=3.4->seaborn) (2.8.2)\n",
      "Requirement already satisfied: cycler>=0.10 in /Library/Frameworks/Python.framework/Versions/3.10/lib/python3.10/site-packages (from matplotlib!=3.6.1,>=3.4->seaborn) (0.12.1)\n",
      "Requirement already satisfied: pytz>=2020.1 in /Library/Frameworks/Python.framework/Versions/3.10/lib/python3.10/site-packages (from pandas>=1.2->seaborn) (2024.1)\n",
      "Requirement already satisfied: tzdata>=2022.7 in /Library/Frameworks/Python.framework/Versions/3.10/lib/python3.10/site-packages (from pandas>=1.2->seaborn) (2024.1)\n",
      "Requirement already satisfied: six>=1.5 in /Library/Frameworks/Python.framework/Versions/3.10/lib/python3.10/site-packages (from python-dateutil>=2.7->matplotlib!=3.6.1,>=3.4->seaborn) (1.16.0)\n",
      "\n",
      "\u001b[1m[\u001b[0m\u001b[34;49mnotice\u001b[0m\u001b[1;39;49m]\u001b[0m\u001b[39;49m A new release of pip available: \u001b[0m\u001b[31;49m22.1.2\u001b[0m\u001b[39;49m -> \u001b[0m\u001b[32;49m24.0\u001b[0m\n",
      "\u001b[1m[\u001b[0m\u001b[34;49mnotice\u001b[0m\u001b[1;39;49m]\u001b[0m\u001b[39;49m To update, run: \u001b[0m\u001b[32;49mpip install --upgrade pip\u001b[0m\n",
      "Note: you may need to restart the kernel to use updated packages.\n"
     ]
    }
   ],
   "source": [
    "%pip install numpy\n",
    "%pip install pandas\n",
    "%pip install matplotlib\n",
    "%pip install scikit-learn\n",
    "%pip install seaborn"
   ]
  },
  {
   "cell_type": "code",
   "execution_count": 37,
   "metadata": {},
   "outputs": [],
   "source": [
    "import numpy as np\n",
    "import pandas as pd\n",
    "import matplotlib.pyplot as plt\n",
    "from sklearn.linear_model import LinearRegression, ElasticNet\n",
    "import csv\n",
    "import seaborn as sns\n",
    "from typing import Any"
   ]
  },
  {
   "cell_type": "code",
   "execution_count": 4,
   "metadata": {},
   "outputs": [],
   "source": [
    "path1 = f\"../data/round_5/trades_round_1_day_-2_wn.csv\"\n",
    "path2 = f\"../data/round_5/trades_round_1_day_-1_wn.csv\"\n",
    "path3 = f\"../data/round_5/trades_round_1_day_0_wn.csv\"\n",
    "\n",
    "path4 = f\"../data/round_5/trades_round_3_day_0_wn.csv\"\n",
    "path5 = f\"../data/round_5/trades_round_3_day_1_wn.csv\"\n",
    "path6 = f\"../data/round_5/trades_round_3_day_2_wn.csv\"\n",
    "\n",
    "path7 = f\"../data/round_5/trades_round_4_day_1_wn.csv\"\n",
    "path8 = f\"../data/round_5/trades_round_4_day_2_wn.csv\"\n",
    "path9 = f\"../data/round_5/trades_round_4_day_3_wn.csv\""
   ]
  },
  {
   "cell_type": "markdown",
   "metadata": {},
   "source": [
    "# Day 1 Analysis"
   ]
  },
  {
   "cell_type": "code",
   "execution_count": 5,
   "metadata": {},
   "outputs": [],
   "source": [
    "data1 = pd.read_csv(path1, delimiter=\";\", parse_dates=True)\n",
    "data2 = pd.read_csv(path2, delimiter=\";\", parse_dates=True)\n",
    "data3 = pd.read_csv(path3, delimiter=\";\", parse_dates=True)"
   ]
  },
  {
   "cell_type": "code",
   "execution_count": 6,
   "metadata": {},
   "outputs": [
    {
     "data": {
      "text/html": [
       "<div>\n",
       "<style scoped>\n",
       "    .dataframe tbody tr th:only-of-type {\n",
       "        vertical-align: middle;\n",
       "    }\n",
       "\n",
       "    .dataframe tbody tr th {\n",
       "        vertical-align: top;\n",
       "    }\n",
       "\n",
       "    .dataframe thead th {\n",
       "        text-align: right;\n",
       "    }\n",
       "</style>\n",
       "<table border=\"1\" class=\"dataframe\">\n",
       "  <thead>\n",
       "    <tr style=\"text-align: right;\">\n",
       "      <th></th>\n",
       "      <th>timestamp</th>\n",
       "      <th>buyer</th>\n",
       "      <th>seller</th>\n",
       "      <th>symbol</th>\n",
       "      <th>currency</th>\n",
       "      <th>price</th>\n",
       "      <th>quantity</th>\n",
       "    </tr>\n",
       "  </thead>\n",
       "  <tbody>\n",
       "    <tr>\n",
       "      <th>0</th>\n",
       "      <td>0</td>\n",
       "      <td>Vinnie</td>\n",
       "      <td>Ruby</td>\n",
       "      <td>AMETHYSTS</td>\n",
       "      <td>SEASHELLS</td>\n",
       "      <td>9996.0</td>\n",
       "      <td>1</td>\n",
       "    </tr>\n",
       "    <tr>\n",
       "      <th>1</th>\n",
       "      <td>0</td>\n",
       "      <td>Remy</td>\n",
       "      <td>Valentina</td>\n",
       "      <td>STARFRUIT</td>\n",
       "      <td>SEASHELLS</td>\n",
       "      <td>5003.0</td>\n",
       "      <td>1</td>\n",
       "    </tr>\n",
       "    <tr>\n",
       "      <th>2</th>\n",
       "      <td>0</td>\n",
       "      <td>Remy</td>\n",
       "      <td>Ruby</td>\n",
       "      <td>AMETHYSTS</td>\n",
       "      <td>SEASHELLS</td>\n",
       "      <td>9996.0</td>\n",
       "      <td>1</td>\n",
       "    </tr>\n",
       "    <tr>\n",
       "      <th>3</th>\n",
       "      <td>100</td>\n",
       "      <td>Ruby</td>\n",
       "      <td>Valentina</td>\n",
       "      <td>STARFRUIT</td>\n",
       "      <td>SEASHELLS</td>\n",
       "      <td>5004.0</td>\n",
       "      <td>6</td>\n",
       "    </tr>\n",
       "    <tr>\n",
       "      <th>4</th>\n",
       "      <td>900</td>\n",
       "      <td>Rhianna</td>\n",
       "      <td>Valentina</td>\n",
       "      <td>STARFRUIT</td>\n",
       "      <td>SEASHELLS</td>\n",
       "      <td>5001.0</td>\n",
       "      <td>2</td>\n",
       "    </tr>\n",
       "    <tr>\n",
       "      <th>...</th>\n",
       "      <td>...</td>\n",
       "      <td>...</td>\n",
       "      <td>...</td>\n",
       "      <td>...</td>\n",
       "      <td>...</td>\n",
       "      <td>...</td>\n",
       "      <td>...</td>\n",
       "    </tr>\n",
       "    <tr>\n",
       "      <th>16145</th>\n",
       "      <td>998800</td>\n",
       "      <td>Valentina</td>\n",
       "      <td>Remy</td>\n",
       "      <td>STARFRUIT</td>\n",
       "      <td>SEASHELLS</td>\n",
       "      <td>5050.0</td>\n",
       "      <td>1</td>\n",
       "    </tr>\n",
       "    <tr>\n",
       "      <th>16146</th>\n",
       "      <td>998800</td>\n",
       "      <td>Rhianna</td>\n",
       "      <td>Remy</td>\n",
       "      <td>AMETHYSTS</td>\n",
       "      <td>SEASHELLS</td>\n",
       "      <td>10002.0</td>\n",
       "      <td>1</td>\n",
       "    </tr>\n",
       "    <tr>\n",
       "      <th>16147</th>\n",
       "      <td>999500</td>\n",
       "      <td>Valentina</td>\n",
       "      <td>Remy</td>\n",
       "      <td>AMETHYSTS</td>\n",
       "      <td>SEASHELLS</td>\n",
       "      <td>9995.0</td>\n",
       "      <td>2</td>\n",
       "    </tr>\n",
       "    <tr>\n",
       "      <th>16148</th>\n",
       "      <td>999500</td>\n",
       "      <td>Valentina</td>\n",
       "      <td>Remy</td>\n",
       "      <td>STARFRUIT</td>\n",
       "      <td>SEASHELLS</td>\n",
       "      <td>5049.0</td>\n",
       "      <td>2</td>\n",
       "    </tr>\n",
       "    <tr>\n",
       "      <th>16149</th>\n",
       "      <td>999600</td>\n",
       "      <td>Vladimir</td>\n",
       "      <td>Remy</td>\n",
       "      <td>STARFRUIT</td>\n",
       "      <td>SEASHELLS</td>\n",
       "      <td>5048.0</td>\n",
       "      <td>1</td>\n",
       "    </tr>\n",
       "  </tbody>\n",
       "</table>\n",
       "<p>16150 rows × 7 columns</p>\n",
       "</div>"
      ],
      "text/plain": [
       "       timestamp      buyer     seller     symbol   currency    price  \\\n",
       "0              0     Vinnie       Ruby  AMETHYSTS  SEASHELLS   9996.0   \n",
       "1              0       Remy  Valentina  STARFRUIT  SEASHELLS   5003.0   \n",
       "2              0       Remy       Ruby  AMETHYSTS  SEASHELLS   9996.0   \n",
       "3            100       Ruby  Valentina  STARFRUIT  SEASHELLS   5004.0   \n",
       "4            900    Rhianna  Valentina  STARFRUIT  SEASHELLS   5001.0   \n",
       "...          ...        ...        ...        ...        ...      ...   \n",
       "16145     998800  Valentina       Remy  STARFRUIT  SEASHELLS   5050.0   \n",
       "16146     998800    Rhianna       Remy  AMETHYSTS  SEASHELLS  10002.0   \n",
       "16147     999500  Valentina       Remy  AMETHYSTS  SEASHELLS   9995.0   \n",
       "16148     999500  Valentina       Remy  STARFRUIT  SEASHELLS   5049.0   \n",
       "16149     999600   Vladimir       Remy  STARFRUIT  SEASHELLS   5048.0   \n",
       "\n",
       "       quantity  \n",
       "0             1  \n",
       "1             1  \n",
       "2             1  \n",
       "3             6  \n",
       "4             2  \n",
       "...         ...  \n",
       "16145         1  \n",
       "16146         1  \n",
       "16147         2  \n",
       "16148         2  \n",
       "16149         1  \n",
       "\n",
       "[16150 rows x 7 columns]"
      ]
     },
     "execution_count": 6,
     "metadata": {},
     "output_type": "execute_result"
    }
   ],
   "source": [
    "data = pd.concat([data1, data2, data3], ignore_index=True)\n",
    "data"
   ]
  },
  {
   "cell_type": "code",
   "execution_count": 30,
   "metadata": {},
   "outputs": [
    {
     "data": {
      "text/plain": [
       "{'Adam',\n",
       " 'Amelia',\n",
       " 'Remy',\n",
       " 'Rhianna',\n",
       " 'Ruby',\n",
       " 'Valentina',\n",
       " 'Vinnie',\n",
       " 'Vladimir'}"
      ]
     },
     "execution_count": 30,
     "metadata": {},
     "output_type": "execute_result"
    }
   ],
   "source": [
    "set(data[\"buyer\"].to_list())"
   ]
  },
  {
   "cell_type": "code",
   "execution_count": 34,
   "metadata": {},
   "outputs": [],
   "source": [
    "# data[\"buyer\"].hist(['Adam',\n",
    "#  'Amelia',\n",
    "#  'Remy',\n",
    "#  'Rhianna',\n",
    "#  'Ruby',\n",
    "#  'Valentina',\n",
    "#  'Vinnie',\n",
    "#  'Vladimir'])\n",
    "# data[\"seller\"].hist()"
   ]
  },
  {
   "cell_type": "code",
   "execution_count": 27,
   "metadata": {},
   "outputs": [
    {
     "data": {
      "text/plain": [
       "<Axes: >"
      ]
     },
     "execution_count": 27,
     "metadata": {},
     "output_type": "execute_result"
    },
    {
     "data": {
      "image/png": "[encoded data removed]",
      "text/plain": [
       "<Figure size 432x288 with 1 Axes>"
      ]
     },
     "metadata": {
      "needs_background": "light"
     },
     "output_type": "display_data"
    }
   ],
   "source": [
    "data[\"seller\"].hist()"
   ]
  },
  {
   "cell_type": "code",
   "execution_count": 45,
   "metadata": {},
   "outputs": [],
   "source": [
    "# snakes = [\"Vinnie\", \"Remy\", \"Ruby\", \"Rhianna\", \"Valentina\", \"Vladimir\", \"Adam\", \"Amelia\"]\n",
    "\n",
    "# for snake in snakes:\n",
    "#     eval(f\"{snake}_data = pd.concat([data[data[\\\"buyer\\\"] == {snake}], data[data[\\\"seller\\\"] == {snake}]], ignore_index=True)\")\n",
    "# Remy_data = data[Any(data[\"buyer\"] == \"Remy\", data[\"seller\"] == \"Remy\")]\n",
    "\n",
    "Vinnie_data = data[data[\"buyer\"] == \"Vinnie\"]\n",
    "Remy_data= data[data[\"buyer\"] == \"Remy\"] \n",
    "Ruby_data = data[data[\"buyer\"] == \"Ruby\"]\n",
    "Rhia_data = data[data[\"buyer\"] == \"Rhianna\"]\n",
    "Vale_data = data[data[\"buyer\"] == \"Valentina\"]\n",
    "Vlad_data = data[data[\"buyer\"] == \"Vladimir\"]\n",
    "Adam_data = data[data[\"buyer\"] == \"Adam\"]\n",
    "Amel_data = data[data[\"buyer\"] == \"Amelia\"]\n"
   ]
  },
  {
   "cell_type": "code",
   "execution_count": 46,
   "metadata": {},
   "outputs": [
    {
     "data": {
      "text/plain": [
       "<Axes: >"
      ]
     },
     "execution_count": 46,
     "metadata": {},
     "output_type": "execute_result"
    },
    {
     "data": {
      "image/png": "[encoded data removed]",
      "text/plain": [
       "<Figure size 432x288 with 1 Axes>"
      ]
     },
     "metadata": {
      "needs_background": "light"
     },
     "output_type": "display_data"
    }
   ],
   "source": [
    "\n",
    "# data[data[\"buyer\"] == \"Vinnie\"][\"symbol\"].hist()\n",
    "Vinnie_data[\"symbol\"].hist()"
   ]
  },
  {
   "cell_type": "code",
   "execution_count": 15,
   "metadata": {},
   "outputs": [
    {
     "data": {
      "text/plain": [
       "<Axes: >"
      ]
     },
     "execution_count": 15,
     "metadata": {},
     "output_type": "execute_result"
    },
    {
     "data": {
      "image/png": "[encoded data removed]",
      "text/plain": [
       "<Figure size 432x288 with 1 Axes>"
      ]
     },
     "metadata": {
      "needs_background": "light"
     },
     "output_type": "display_data"
    }
   ],
   "source": [
    "Remy_data[\"symbol\"].hist()"
   ]
  },
  {
   "cell_type": "code",
   "execution_count": 17,
   "metadata": {},
   "outputs": [
    {
     "data": {
      "text/plain": [
       "<Axes: >"
      ]
     },
     "execution_count": 17,
     "metadata": {},
     "output_type": "execute_result"
    },
    {
     "data": {
      "image/png": "[encoded data removed]",
      "text/plain": [
       "<Figure size 432x288 with 1 Axes>"
      ]
     },
     "metadata": {
      "needs_background": "light"
     },
     "output_type": "display_data"
    }
   ],
   "source": [
    "Ruby_data[\"symbol\"].hist()"
   ]
  },
  {
   "cell_type": "code",
   "execution_count": 18,
   "metadata": {},
   "outputs": [
    {
     "data": {
      "text/plain": [
       "<Axes: >"
      ]
     },
     "execution_count": 18,
     "metadata": {},
     "output_type": "execute_result"
    },
    {
     "data": {
      "image/png": "[encoded data removed]",
      "text/plain": [
       "<Figure size 432x288 with 1 Axes>"
      ]
     },
     "metadata": {
      "needs_background": "light"
     },
     "output_type": "display_data"
    }
   ],
   "source": [
    "Rhia_data[\"symbol\"].hist()"
   ]
  },
  {
   "cell_type": "code",
   "execution_count": 19,
   "metadata": {},
   "outputs": [
    {
     "data": {
      "text/plain": [
       "<Axes: >"
      ]
     },
     "execution_count": 19,
     "metadata": {},
     "output_type": "execute_result"
    },
    {
     "data": {
      "image/png": "[encoded data removed]",
      "text/plain": [
       "<Figure size 432x288 with 1 Axes>"
      ]
     },
     "metadata": {
      "needs_background": "light"
     },
     "output_type": "display_data"
    }
   ],
   "source": [
    "Vale_data[\"symbol\"].hist()"
   ]
  },
  {
   "cell_type": "code",
   "execution_count": 20,
   "metadata": {},
   "outputs": [
    {
     "data": {
      "text/plain": [
       "<Axes: >"
      ]
     },
     "execution_count": 20,
     "metadata": {},
     "output_type": "execute_result"
    },
    {
     "data": {
      "image/png": "[encoded data removed]",
      "text/plain": [
       "<Figure size 432x288 with 1 Axes>"
      ]
     },
     "metadata": {
      "needs_background": "light"
     },
     "output_type": "display_data"
    }
   ],
   "source": [
    "Vlad_data[\"symbol\"].hist()"
   ]
  },
  {
   "cell_type": "code",
   "execution_count": 21,
   "metadata": {},
   "outputs": [
    {
     "data": {
      "text/plain": [
       "<Axes: >"
      ]
     },
     "execution_count": 21,
     "metadata": {},
     "output_type": "execute_result"
    },
    {
     "data": {
      "image/png": "[encoded data removed]",
      "text/plain": [
       "<Figure size 432x288 with 1 Axes>"
      ]
     },
     "metadata": {
      "needs_background": "light"
     },
     "output_type": "display_data"
    }
   ],
   "source": [
    "Adam_data[\"symbol\"].hist()"
   ]
  },
  {
   "cell_type": "code",
   "execution_count": 22,
   "metadata": {},
   "outputs": [
    {
     "data": {
      "text/plain": [
       "<Axes: >"
      ]
     },
     "execution_count": 22,
     "metadata": {},
     "output_type": "execute_result"
    },
    {
     "data": {
      "image/png": "[encoded data removed]",
      "text/plain": [
       "<Figure size 432x288 with 1 Axes>"
      ]
     },
     "metadata": {
      "needs_background": "light"
     },
     "output_type": "display_data"
    }
   ],
   "source": [
    "Amel_data[\"symbol\"].hist()"
   ]
  },
  {
   "cell_type": "markdown",
   "metadata": {},
   "source": [
    "# Day 2 Analysis of cross-person trades"
   ]
  },
  {
   "cell_type": "code",
   "execution_count": 53,
   "metadata": {},
   "outputs": [
    {
     "data": {
      "text/html": [
       "<div>\n",
       "<style scoped>\n",
       "    .dataframe tbody tr th:only-of-type {\n",
       "        vertical-align: middle;\n",
       "    }\n",
       "\n",
       "    .dataframe tbody tr th {\n",
       "        vertical-align: top;\n",
       "    }\n",
       "\n",
       "    .dataframe thead th {\n",
       "        text-align: right;\n",
       "    }\n",
       "</style>\n",
       "<table border=\"1\" class=\"dataframe\">\n",
       "  <thead>\n",
       "    <tr style=\"text-align: right;\">\n",
       "      <th></th>\n",
       "      <th>timestamp</th>\n",
       "      <th>buyer</th>\n",
       "      <th>seller</th>\n",
       "      <th>symbol</th>\n",
       "      <th>currency</th>\n",
       "      <th>price</th>\n",
       "      <th>quantity</th>\n",
       "      <th>buyer-seller</th>\n",
       "    </tr>\n",
       "  </thead>\n",
       "  <tbody>\n",
       "    <tr>\n",
       "      <th>0</th>\n",
       "      <td>0</td>\n",
       "      <td>Vinnie</td>\n",
       "      <td>Ruby</td>\n",
       "      <td>AMETHYSTS</td>\n",
       "      <td>SEASHELLS</td>\n",
       "      <td>9996.0</td>\n",
       "      <td>1</td>\n",
       "      <td>Vinnie-Ruby</td>\n",
       "    </tr>\n",
       "    <tr>\n",
       "      <th>1</th>\n",
       "      <td>0</td>\n",
       "      <td>Remy</td>\n",
       "      <td>Valentina</td>\n",
       "      <td>STARFRUIT</td>\n",
       "      <td>SEASHELLS</td>\n",
       "      <td>5003.0</td>\n",
       "      <td>1</td>\n",
       "      <td>Remy-Valentina</td>\n",
       "    </tr>\n",
       "    <tr>\n",
       "      <th>2</th>\n",
       "      <td>0</td>\n",
       "      <td>Remy</td>\n",
       "      <td>Ruby</td>\n",
       "      <td>AMETHYSTS</td>\n",
       "      <td>SEASHELLS</td>\n",
       "      <td>9996.0</td>\n",
       "      <td>1</td>\n",
       "      <td>Remy-Ruby</td>\n",
       "    </tr>\n",
       "    <tr>\n",
       "      <th>3</th>\n",
       "      <td>100</td>\n",
       "      <td>Ruby</td>\n",
       "      <td>Valentina</td>\n",
       "      <td>STARFRUIT</td>\n",
       "      <td>SEASHELLS</td>\n",
       "      <td>5004.0</td>\n",
       "      <td>6</td>\n",
       "      <td>Ruby-Valentina</td>\n",
       "    </tr>\n",
       "    <tr>\n",
       "      <th>4</th>\n",
       "      <td>900</td>\n",
       "      <td>Rhianna</td>\n",
       "      <td>Valentina</td>\n",
       "      <td>STARFRUIT</td>\n",
       "      <td>SEASHELLS</td>\n",
       "      <td>5001.0</td>\n",
       "      <td>2</td>\n",
       "      <td>Rhianna-Valentina</td>\n",
       "    </tr>\n",
       "    <tr>\n",
       "      <th>...</th>\n",
       "      <td>...</td>\n",
       "      <td>...</td>\n",
       "      <td>...</td>\n",
       "      <td>...</td>\n",
       "      <td>...</td>\n",
       "      <td>...</td>\n",
       "      <td>...</td>\n",
       "      <td>...</td>\n",
       "    </tr>\n",
       "    <tr>\n",
       "      <th>16145</th>\n",
       "      <td>998800</td>\n",
       "      <td>Valentina</td>\n",
       "      <td>Remy</td>\n",
       "      <td>STARFRUIT</td>\n",
       "      <td>SEASHELLS</td>\n",
       "      <td>5050.0</td>\n",
       "      <td>1</td>\n",
       "      <td>Valentina-Remy</td>\n",
       "    </tr>\n",
       "    <tr>\n",
       "      <th>16146</th>\n",
       "      <td>998800</td>\n",
       "      <td>Rhianna</td>\n",
       "      <td>Remy</td>\n",
       "      <td>AMETHYSTS</td>\n",
       "      <td>SEASHELLS</td>\n",
       "      <td>10002.0</td>\n",
       "      <td>1</td>\n",
       "      <td>Rhianna-Remy</td>\n",
       "    </tr>\n",
       "    <tr>\n",
       "      <th>16147</th>\n",
       "      <td>999500</td>\n",
       "      <td>Valentina</td>\n",
       "      <td>Remy</td>\n",
       "      <td>AMETHYSTS</td>\n",
       "      <td>SEASHELLS</td>\n",
       "      <td>9995.0</td>\n",
       "      <td>2</td>\n",
       "      <td>Valentina-Remy</td>\n",
       "    </tr>\n",
       "    <tr>\n",
       "      <th>16148</th>\n",
       "      <td>999500</td>\n",
       "      <td>Valentina</td>\n",
       "      <td>Remy</td>\n",
       "      <td>STARFRUIT</td>\n",
       "      <td>SEASHELLS</td>\n",
       "      <td>5049.0</td>\n",
       "      <td>2</td>\n",
       "      <td>Valentina-Remy</td>\n",
       "    </tr>\n",
       "    <tr>\n",
       "      <th>16149</th>\n",
       "      <td>999600</td>\n",
       "      <td>Vladimir</td>\n",
       "      <td>Remy</td>\n",
       "      <td>STARFRUIT</td>\n",
       "      <td>SEASHELLS</td>\n",
       "      <td>5048.0</td>\n",
       "      <td>1</td>\n",
       "      <td>Vladimir-Remy</td>\n",
       "    </tr>\n",
       "  </tbody>\n",
       "</table>\n",
       "<p>16150 rows × 8 columns</p>\n",
       "</div>"
      ],
      "text/plain": [
       "       timestamp      buyer     seller     symbol   currency    price  \\\n",
       "0              0     Vinnie       Ruby  AMETHYSTS  SEASHELLS   9996.0   \n",
       "1              0       Remy  Valentina  STARFRUIT  SEASHELLS   5003.0   \n",
       "2              0       Remy       Ruby  AMETHYSTS  SEASHELLS   9996.0   \n",
       "3            100       Ruby  Valentina  STARFRUIT  SEASHELLS   5004.0   \n",
       "4            900    Rhianna  Valentina  STARFRUIT  SEASHELLS   5001.0   \n",
       "...          ...        ...        ...        ...        ...      ...   \n",
       "16145     998800  Valentina       Remy  STARFRUIT  SEASHELLS   5050.0   \n",
       "16146     998800    Rhianna       Remy  AMETHYSTS  SEASHELLS  10002.0   \n",
       "16147     999500  Valentina       Remy  AMETHYSTS  SEASHELLS   9995.0   \n",
       "16148     999500  Valentina       Remy  STARFRUIT  SEASHELLS   5049.0   \n",
       "16149     999600   Vladimir       Remy  STARFRUIT  SEASHELLS   5048.0   \n",
       "\n",
       "       quantity       buyer-seller  \n",
       "0             1        Vinnie-Ruby  \n",
       "1             1     Remy-Valentina  \n",
       "2             1          Remy-Ruby  \n",
       "3             6     Ruby-Valentina  \n",
       "4             2  Rhianna-Valentina  \n",
       "...         ...                ...  \n",
       "16145         1     Valentina-Remy  \n",
       "16146         1       Rhianna-Remy  \n",
       "16147         2     Valentina-Remy  \n",
       "16148         2     Valentina-Remy  \n",
       "16149         1      Vladimir-Remy  \n",
       "\n",
       "[16150 rows x 8 columns]"
      ]
     },
     "execution_count": 53,
     "metadata": {},
     "output_type": "execute_result"
    }
   ],
   "source": [
    "data[\"buyer-seller\"] = data[\"buyer\"] + \"-\" + data[\"seller\"]\n",
    "data"
   ]
  },
  {
   "cell_type": "code",
   "execution_count": 60,
   "metadata": {},
   "outputs": [
    {
     "data": {
      "text/plain": [
       "0              Vinnie-Ruby\n",
       "1           Remy-Valentina\n",
       "2                Remy-Ruby\n",
       "3           Ruby-Valentina\n",
       "4        Rhianna-Valentina\n",
       "               ...        \n",
       "16145       Valentina-Remy\n",
       "16146         Rhianna-Remy\n",
       "16147       Valentina-Remy\n",
       "16148       Valentina-Remy\n",
       "16149        Vladimir-Remy\n",
       "Name: buyer-seller, Length: 16150, dtype: object"
      ]
     },
     "execution_count": 60,
     "metadata": {},
     "output_type": "execute_result"
    }
   ],
   "source": [
    "# plt.hist(list(set(data[\"buyer-seller\"].tolist())))\n",
    "data[\"buyer-seller\"]"
   ]
  },
  {
   "cell_type": "markdown",
   "metadata": {},
   "source": [
    "# Day 3 Analysis"
   ]
  },
  {
   "cell_type": "code",
   "execution_count": 23,
   "metadata": {},
   "outputs": [],
   "source": [
    "data4 = pd.read_csv(path4, delimiter=\";\", parse_dates=True)\n",
    "data5 = pd.read_csv(path5, delimiter=\";\", parse_dates=True)\n",
    "data6 = pd.read_csv(path6, delimiter=\";\", parse_dates=True)"
   ]
  },
  {
   "cell_type": "code",
   "execution_count": 24,
   "metadata": {},
   "outputs": [
    {
     "data": {
      "text/html": [
       "<div>\n",
       "<style scoped>\n",
       "    .dataframe tbody tr th:only-of-type {\n",
       "        vertical-align: middle;\n",
       "    }\n",
       "\n",
       "    .dataframe tbody tr th {\n",
       "        vertical-align: top;\n",
       "    }\n",
       "\n",
       "    .dataframe thead th {\n",
       "        text-align: right;\n",
       "    }\n",
       "</style>\n",
       "<table border=\"1\" class=\"dataframe\">\n",
       "  <thead>\n",
       "    <tr style=\"text-align: right;\">\n",
       "      <th></th>\n",
       "      <th>timestamp</th>\n",
       "      <th>buyer</th>\n",
       "      <th>seller</th>\n",
       "      <th>symbol</th>\n",
       "      <th>currency</th>\n",
       "      <th>price</th>\n",
       "      <th>quantity</th>\n",
       "    </tr>\n",
       "  </thead>\n",
       "  <tbody>\n",
       "    <tr>\n",
       "      <th>0</th>\n",
       "      <td>0</td>\n",
       "      <td>Remy</td>\n",
       "      <td>Vinnie</td>\n",
       "      <td>ROSES</td>\n",
       "      <td>SEASHELLS</td>\n",
       "      <td>15001.0</td>\n",
       "      <td>3</td>\n",
       "    </tr>\n",
       "    <tr>\n",
       "      <th>1</th>\n",
       "      <td>0</td>\n",
       "      <td>Remy</td>\n",
       "      <td>Vinnie</td>\n",
       "      <td>CHOCOLATE</td>\n",
       "      <td>SEASHELLS</td>\n",
       "      <td>8001.0</td>\n",
       "      <td>8</td>\n",
       "    </tr>\n",
       "    <tr>\n",
       "      <th>2</th>\n",
       "      <td>200</td>\n",
       "      <td>Vinnie</td>\n",
       "      <td>Rhianna</td>\n",
       "      <td>ROSES</td>\n",
       "      <td>SEASHELLS</td>\n",
       "      <td>15000.0</td>\n",
       "      <td>3</td>\n",
       "    </tr>\n",
       "    <tr>\n",
       "      <th>3</th>\n",
       "      <td>500</td>\n",
       "      <td>Vinnie</td>\n",
       "      <td>Remy</td>\n",
       "      <td>STRAWBERRIES</td>\n",
       "      <td>SEASHELLS</td>\n",
       "      <td>3999.0</td>\n",
       "      <td>10</td>\n",
       "    </tr>\n",
       "    <tr>\n",
       "      <th>4</th>\n",
       "      <td>1000</td>\n",
       "      <td>Ruby</td>\n",
       "      <td>Vinnie</td>\n",
       "      <td>GIFT_BASKET</td>\n",
       "      <td>SEASHELLS</td>\n",
       "      <td>71360.0</td>\n",
       "      <td>2</td>\n",
       "    </tr>\n",
       "    <tr>\n",
       "      <th>...</th>\n",
       "      <td>...</td>\n",
       "      <td>...</td>\n",
       "      <td>...</td>\n",
       "      <td>...</td>\n",
       "      <td>...</td>\n",
       "      <td>...</td>\n",
       "      <td>...</td>\n",
       "    </tr>\n",
       "    <tr>\n",
       "      <th>11367</th>\n",
       "      <td>997900</td>\n",
       "      <td>Ruby</td>\n",
       "      <td>Vladimir</td>\n",
       "      <td>GIFT_BASKET</td>\n",
       "      <td>SEASHELLS</td>\n",
       "      <td>69478.0</td>\n",
       "      <td>5</td>\n",
       "    </tr>\n",
       "    <tr>\n",
       "      <th>11368</th>\n",
       "      <td>998400</td>\n",
       "      <td>Remy</td>\n",
       "      <td>Vinnie</td>\n",
       "      <td>STRAWBERRIES</td>\n",
       "      <td>SEASHELLS</td>\n",
       "      <td>3985.0</td>\n",
       "      <td>4</td>\n",
       "    </tr>\n",
       "    <tr>\n",
       "      <th>11369</th>\n",
       "      <td>998800</td>\n",
       "      <td>Vinnie</td>\n",
       "      <td>Remy</td>\n",
       "      <td>CHOCOLATE</td>\n",
       "      <td>SEASHELLS</td>\n",
       "      <td>7752.0</td>\n",
       "      <td>7</td>\n",
       "    </tr>\n",
       "    <tr>\n",
       "      <th>11370</th>\n",
       "      <td>998900</td>\n",
       "      <td>Vinnie</td>\n",
       "      <td>Remy</td>\n",
       "      <td>ROSES</td>\n",
       "      <td>SEASHELLS</td>\n",
       "      <td>14404.0</td>\n",
       "      <td>5</td>\n",
       "    </tr>\n",
       "    <tr>\n",
       "      <th>11371</th>\n",
       "      <td>998900</td>\n",
       "      <td>Vinnie</td>\n",
       "      <td>Ruby</td>\n",
       "      <td>GIFT_BASKET</td>\n",
       "      <td>SEASHELLS</td>\n",
       "      <td>69550.0</td>\n",
       "      <td>5</td>\n",
       "    </tr>\n",
       "  </tbody>\n",
       "</table>\n",
       "<p>11372 rows × 7 columns</p>\n",
       "</div>"
      ],
      "text/plain": [
       "       timestamp   buyer    seller        symbol   currency    price  quantity\n",
       "0              0    Remy    Vinnie         ROSES  SEASHELLS  15001.0         3\n",
       "1              0    Remy    Vinnie     CHOCOLATE  SEASHELLS   8001.0         8\n",
       "2            200  Vinnie   Rhianna         ROSES  SEASHELLS  15000.0         3\n",
       "3            500  Vinnie      Remy  STRAWBERRIES  SEASHELLS   3999.0        10\n",
       "4           1000    Ruby    Vinnie   GIFT_BASKET  SEASHELLS  71360.0         2\n",
       "...          ...     ...       ...           ...        ...      ...       ...\n",
       "11367     997900    Ruby  Vladimir   GIFT_BASKET  SEASHELLS  69478.0         5\n",
       "11368     998400    Remy    Vinnie  STRAWBERRIES  SEASHELLS   3985.0         4\n",
       "11369     998800  Vinnie      Remy     CHOCOLATE  SEASHELLS   7752.0         7\n",
       "11370     998900  Vinnie      Remy         ROSES  SEASHELLS  14404.0         5\n",
       "11371     998900  Vinnie      Ruby   GIFT_BASKET  SEASHELLS  69550.0         5\n",
       "\n",
       "[11372 rows x 7 columns]"
      ]
     },
     "execution_count": 24,
     "metadata": {},
     "output_type": "execute_result"
    }
   ],
   "source": [
    "day3 = pd.concat([data4, data5, data6], ignore_index=True)\n",
    "day3"
   ]
  },
  {
   "cell_type": "code",
   "execution_count": 25,
   "metadata": {},
   "outputs": [
    {
     "data": {
      "text/plain": [
       "<Axes: >"
      ]
     },
     "execution_count": 25,
     "metadata": {},
     "output_type": "execute_result"
    },
    {
     "data": {
      "image/png": "[encoded data removed]",
      "text/plain": [
       "<Figure size 432x288 with 1 Axes>"
      ]
     },
     "metadata": {
      "needs_background": "light"
     },
     "output_type": "display_data"
    }
   ],
   "source": [
    "day3[\"buyer\"].hist()"
   ]
  },
  {
   "cell_type": "code",
   "execution_count": 26,
   "metadata": {},
   "outputs": [
    {
     "data": {
      "text/plain": [
       "<Axes: >"
      ]
     },
     "execution_count": 26,
     "metadata": {},
     "output_type": "execute_result"
    },
    {
     "data": {
      "image/png": "[encoded data removed]",
      "text/plain": [
       "<Figure size 432x288 with 1 Axes>"
      ]
     },
     "metadata": {
      "needs_background": "light"
     },
     "output_type": "display_data"
    }
   ],
   "source": [
    "day3[\"seller\"].hist()"
   ]
  },
  {
   "cell_type": "code",
   "execution_count": 88,
   "metadata": {},
   "outputs": [
    {
     "data": {
      "text/html": [
       "<div>\n",
       "<style scoped>\n",
       "    .dataframe tbody tr th:only-of-type {\n",
       "        vertical-align: middle;\n",
       "    }\n",
       "\n",
       "    .dataframe tbody tr th {\n",
       "        vertical-align: top;\n",
       "    }\n",
       "\n",
       "    .dataframe thead th {\n",
       "        text-align: right;\n",
       "    }\n",
       "</style>\n",
       "<table border=\"1\" class=\"dataframe\">\n",
       "  <thead>\n",
       "    <tr style=\"text-align: right;\">\n",
       "      <th></th>\n",
       "      <th>timestamp</th>\n",
       "      <th>buyer</th>\n",
       "      <th>seller</th>\n",
       "      <th>symbol</th>\n",
       "      <th>currency</th>\n",
       "      <th>price</th>\n",
       "      <th>quantity</th>\n",
       "    </tr>\n",
       "  </thead>\n",
       "  <tbody>\n",
       "    <tr>\n",
       "      <th>0</th>\n",
       "      <td>0</td>\n",
       "      <td>Remy</td>\n",
       "      <td>Vinnie</td>\n",
       "      <td>ROSES</td>\n",
       "      <td>SEASHELLS</td>\n",
       "      <td>15001.0</td>\n",
       "      <td>3</td>\n",
       "    </tr>\n",
       "    <tr>\n",
       "      <th>1</th>\n",
       "      <td>0</td>\n",
       "      <td>Remy</td>\n",
       "      <td>Vinnie</td>\n",
       "      <td>CHOCOLATE</td>\n",
       "      <td>SEASHELLS</td>\n",
       "      <td>8001.0</td>\n",
       "      <td>8</td>\n",
       "    </tr>\n",
       "    <tr>\n",
       "      <th>5</th>\n",
       "      <td>1200</td>\n",
       "      <td>Remy</td>\n",
       "      <td>Vinnie</td>\n",
       "      <td>ROSES</td>\n",
       "      <td>SEASHELLS</td>\n",
       "      <td>14997.0</td>\n",
       "      <td>1</td>\n",
       "    </tr>\n",
       "    <tr>\n",
       "      <th>8</th>\n",
       "      <td>2600</td>\n",
       "      <td>Remy</td>\n",
       "      <td>Vinnie</td>\n",
       "      <td>ROSES</td>\n",
       "      <td>SEASHELLS</td>\n",
       "      <td>14974.0</td>\n",
       "      <td>5</td>\n",
       "    </tr>\n",
       "    <tr>\n",
       "      <th>9</th>\n",
       "      <td>2800</td>\n",
       "      <td>Remy</td>\n",
       "      <td>Vinnie</td>\n",
       "      <td>STRAWBERRIES</td>\n",
       "      <td>SEASHELLS</td>\n",
       "      <td>4001.0</td>\n",
       "      <td>10</td>\n",
       "    </tr>\n",
       "    <tr>\n",
       "      <th>...</th>\n",
       "      <td>...</td>\n",
       "      <td>...</td>\n",
       "      <td>...</td>\n",
       "      <td>...</td>\n",
       "      <td>...</td>\n",
       "      <td>...</td>\n",
       "      <td>...</td>\n",
       "    </tr>\n",
       "    <tr>\n",
       "      <th>11359</th>\n",
       "      <td>996500</td>\n",
       "      <td>Remy</td>\n",
       "      <td>Vinnie</td>\n",
       "      <td>ROSES</td>\n",
       "      <td>SEASHELLS</td>\n",
       "      <td>14392.0</td>\n",
       "      <td>1</td>\n",
       "    </tr>\n",
       "    <tr>\n",
       "      <th>11363</th>\n",
       "      <td>997200</td>\n",
       "      <td>Remy</td>\n",
       "      <td>Vinnie</td>\n",
       "      <td>STRAWBERRIES</td>\n",
       "      <td>SEASHELLS</td>\n",
       "      <td>3983.0</td>\n",
       "      <td>6</td>\n",
       "    </tr>\n",
       "    <tr>\n",
       "      <th>11365</th>\n",
       "      <td>997600</td>\n",
       "      <td>Remy</td>\n",
       "      <td>Vinnie</td>\n",
       "      <td>ROSES</td>\n",
       "      <td>SEASHELLS</td>\n",
       "      <td>14392.0</td>\n",
       "      <td>2</td>\n",
       "    </tr>\n",
       "    <tr>\n",
       "      <th>11366</th>\n",
       "      <td>997700</td>\n",
       "      <td>Remy</td>\n",
       "      <td>Vinnie</td>\n",
       "      <td>STRAWBERRIES</td>\n",
       "      <td>SEASHELLS</td>\n",
       "      <td>3983.0</td>\n",
       "      <td>5</td>\n",
       "    </tr>\n",
       "    <tr>\n",
       "      <th>11368</th>\n",
       "      <td>998400</td>\n",
       "      <td>Remy</td>\n",
       "      <td>Vinnie</td>\n",
       "      <td>STRAWBERRIES</td>\n",
       "      <td>SEASHELLS</td>\n",
       "      <td>3985.0</td>\n",
       "      <td>4</td>\n",
       "    </tr>\n",
       "  </tbody>\n",
       "</table>\n",
       "<p>3737 rows × 7 columns</p>\n",
       "</div>"
      ],
      "text/plain": [
       "       timestamp buyer  seller        symbol   currency    price  quantity\n",
       "0              0  Remy  Vinnie         ROSES  SEASHELLS  15001.0         3\n",
       "1              0  Remy  Vinnie     CHOCOLATE  SEASHELLS   8001.0         8\n",
       "5           1200  Remy  Vinnie         ROSES  SEASHELLS  14997.0         1\n",
       "8           2600  Remy  Vinnie         ROSES  SEASHELLS  14974.0         5\n",
       "9           2800  Remy  Vinnie  STRAWBERRIES  SEASHELLS   4001.0        10\n",
       "...          ...   ...     ...           ...        ...      ...       ...\n",
       "11359     996500  Remy  Vinnie         ROSES  SEASHELLS  14392.0         1\n",
       "11363     997200  Remy  Vinnie  STRAWBERRIES  SEASHELLS   3983.0         6\n",
       "11365     997600  Remy  Vinnie         ROSES  SEASHELLS  14392.0         2\n",
       "11366     997700  Remy  Vinnie  STRAWBERRIES  SEASHELLS   3983.0         5\n",
       "11368     998400  Remy  Vinnie  STRAWBERRIES  SEASHELLS   3985.0         4\n",
       "\n",
       "[3737 rows x 7 columns]"
      ]
     },
     "execution_count": 88,
     "metadata": {},
     "output_type": "execute_result"
    }
   ],
   "source": [
    "remy_3 = day3[day3[\"buyer\"] == \"Remy\"]\n",
    "vinnie_3 = day3[day3[\"buyer\"] == \"Vinnie\"]\n",
    "vlad_3 = day3[day3[\"buyer\"] == \"Vladimir\"]\n",
    "rhianna = day3[day3[\"seller\"] == \"Rhianna\"]\n",
    "remy_3"
   ]
  },
  {
   "cell_type": "code",
   "execution_count": 64,
   "metadata": {},
   "outputs": [
    {
     "data": {
      "text/plain": [
       "<Axes: >"
      ]
     },
     "execution_count": 64,
     "metadata": {},
     "output_type": "execute_result"
    },
    {
     "data": {
      "image/png": "[encoded data removed]",
      "text/plain": [
       "<Figure size 432x288 with 1 Axes>"
      ]
     },
     "metadata": {
      "needs_background": "light"
     },
     "output_type": "display_data"
    }
   ],
   "source": [
    "remy_3[\"seller\"].hist()"
   ]
  },
  {
   "cell_type": "code",
   "execution_count": 66,
   "metadata": {},
   "outputs": [
    {
     "data": {
      "text/plain": [
       "<Axes: >"
      ]
     },
     "execution_count": 66,
     "metadata": {},
     "output_type": "execute_result"
    },
    {
     "data": {
      "image/png": "[encoded data removed]",
      "text/plain": [
       "<Figure size 432x288 with 1 Axes>"
      ]
     },
     "metadata": {
      "needs_background": "light"
     },
     "output_type": "display_data"
    }
   ],
   "source": [
    "vlad_3[\"seller\"].hist()"
   ]
  },
  {
   "cell_type": "code",
   "execution_count": 67,
   "metadata": {},
   "outputs": [
    {
     "data": {
      "text/plain": [
       "<Axes: >"
      ]
     },
     "execution_count": 67,
     "metadata": {},
     "output_type": "execute_result"
    },
    {
     "data": {
      "image/png": "[encoded data removed]",
      "text/plain": [
       "<Figure size 432x288 with 1 Axes>"
      ]
     },
     "metadata": {
      "needs_background": "light"
     },
     "output_type": "display_data"
    }
   ],
   "source": [
    "vinnie_3[\"seller\"].hist()"
   ]
  },
  {
   "cell_type": "code",
   "execution_count": 68,
   "metadata": {},
   "outputs": [
    {
     "data": {
      "text/html": [
       "<div>\n",
       "<style scoped>\n",
       "    .dataframe tbody tr th:only-of-type {\n",
       "        vertical-align: middle;\n",
       "    }\n",
       "\n",
       "    .dataframe tbody tr th {\n",
       "        vertical-align: top;\n",
       "    }\n",
       "\n",
       "    .dataframe thead th {\n",
       "        text-align: right;\n",
       "    }\n",
       "</style>\n",
       "<table border=\"1\" class=\"dataframe\">\n",
       "  <thead>\n",
       "    <tr style=\"text-align: right;\">\n",
       "      <th></th>\n",
       "      <th>timestamp</th>\n",
       "      <th>buyer</th>\n",
       "      <th>seller</th>\n",
       "      <th>symbol</th>\n",
       "      <th>currency</th>\n",
       "      <th>price</th>\n",
       "      <th>quantity</th>\n",
       "    </tr>\n",
       "  </thead>\n",
       "  <tbody>\n",
       "    <tr>\n",
       "      <th>2</th>\n",
       "      <td>200</td>\n",
       "      <td>Vinnie</td>\n",
       "      <td>Rhianna</td>\n",
       "      <td>ROSES</td>\n",
       "      <td>SEASHELLS</td>\n",
       "      <td>15000.0</td>\n",
       "      <td>3</td>\n",
       "    </tr>\n",
       "    <tr>\n",
       "      <th>3</th>\n",
       "      <td>500</td>\n",
       "      <td>Vinnie</td>\n",
       "      <td>Remy</td>\n",
       "      <td>STRAWBERRIES</td>\n",
       "      <td>SEASHELLS</td>\n",
       "      <td>3999.0</td>\n",
       "      <td>10</td>\n",
       "    </tr>\n",
       "    <tr>\n",
       "      <th>6</th>\n",
       "      <td>1300</td>\n",
       "      <td>Vinnie</td>\n",
       "      <td>Vladimir</td>\n",
       "      <td>CHOCOLATE</td>\n",
       "      <td>SEASHELLS</td>\n",
       "      <td>8000.0</td>\n",
       "      <td>7</td>\n",
       "    </tr>\n",
       "    <tr>\n",
       "      <th>7</th>\n",
       "      <td>1400</td>\n",
       "      <td>Vinnie</td>\n",
       "      <td>Remy</td>\n",
       "      <td>ROSES</td>\n",
       "      <td>SEASHELLS</td>\n",
       "      <td>14994.0</td>\n",
       "      <td>3</td>\n",
       "    </tr>\n",
       "    <tr>\n",
       "      <th>15</th>\n",
       "      <td>3500</td>\n",
       "      <td>Vinnie</td>\n",
       "      <td>Vladimir</td>\n",
       "      <td>STRAWBERRIES</td>\n",
       "      <td>SEASHELLS</td>\n",
       "      <td>4000.0</td>\n",
       "      <td>7</td>\n",
       "    </tr>\n",
       "    <tr>\n",
       "      <th>...</th>\n",
       "      <td>...</td>\n",
       "      <td>...</td>\n",
       "      <td>...</td>\n",
       "      <td>...</td>\n",
       "      <td>...</td>\n",
       "      <td>...</td>\n",
       "      <td>...</td>\n",
       "    </tr>\n",
       "    <tr>\n",
       "      <th>11362</th>\n",
       "      <td>997100</td>\n",
       "      <td>Vinnie</td>\n",
       "      <td>Remy</td>\n",
       "      <td>CHOCOLATE</td>\n",
       "      <td>SEASHELLS</td>\n",
       "      <td>7747.0</td>\n",
       "      <td>8</td>\n",
       "    </tr>\n",
       "    <tr>\n",
       "      <th>11364</th>\n",
       "      <td>997500</td>\n",
       "      <td>Vinnie</td>\n",
       "      <td>Vladimir</td>\n",
       "      <td>STRAWBERRIES</td>\n",
       "      <td>SEASHELLS</td>\n",
       "      <td>3982.0</td>\n",
       "      <td>7</td>\n",
       "    </tr>\n",
       "    <tr>\n",
       "      <th>11369</th>\n",
       "      <td>998800</td>\n",
       "      <td>Vinnie</td>\n",
       "      <td>Remy</td>\n",
       "      <td>CHOCOLATE</td>\n",
       "      <td>SEASHELLS</td>\n",
       "      <td>7752.0</td>\n",
       "      <td>7</td>\n",
       "    </tr>\n",
       "    <tr>\n",
       "      <th>11370</th>\n",
       "      <td>998900</td>\n",
       "      <td>Vinnie</td>\n",
       "      <td>Remy</td>\n",
       "      <td>ROSES</td>\n",
       "      <td>SEASHELLS</td>\n",
       "      <td>14404.0</td>\n",
       "      <td>5</td>\n",
       "    </tr>\n",
       "    <tr>\n",
       "      <th>11371</th>\n",
       "      <td>998900</td>\n",
       "      <td>Vinnie</td>\n",
       "      <td>Ruby</td>\n",
       "      <td>GIFT_BASKET</td>\n",
       "      <td>SEASHELLS</td>\n",
       "      <td>69550.0</td>\n",
       "      <td>5</td>\n",
       "    </tr>\n",
       "  </tbody>\n",
       "</table>\n",
       "<p>6413 rows × 7 columns</p>\n",
       "</div>"
      ],
      "text/plain": [
       "       timestamp   buyer    seller        symbol   currency    price  quantity\n",
       "2            200  Vinnie   Rhianna         ROSES  SEASHELLS  15000.0         3\n",
       "3            500  Vinnie      Remy  STRAWBERRIES  SEASHELLS   3999.0        10\n",
       "6           1300  Vinnie  Vladimir     CHOCOLATE  SEASHELLS   8000.0         7\n",
       "7           1400  Vinnie      Remy         ROSES  SEASHELLS  14994.0         3\n",
       "15          3500  Vinnie  Vladimir  STRAWBERRIES  SEASHELLS   4000.0         7\n",
       "...          ...     ...       ...           ...        ...      ...       ...\n",
       "11362     997100  Vinnie      Remy     CHOCOLATE  SEASHELLS   7747.0         8\n",
       "11364     997500  Vinnie  Vladimir  STRAWBERRIES  SEASHELLS   3982.0         7\n",
       "11369     998800  Vinnie      Remy     CHOCOLATE  SEASHELLS   7752.0         7\n",
       "11370     998900  Vinnie      Remy         ROSES  SEASHELLS  14404.0         5\n",
       "11371     998900  Vinnie      Ruby   GIFT_BASKET  SEASHELLS  69550.0         5\n",
       "\n",
       "[6413 rows x 7 columns]"
      ]
     },
     "execution_count": 68,
     "metadata": {},
     "output_type": "execute_result"
    }
   ],
   "source": [
    "vinnie_3"
   ]
  },
  {
   "cell_type": "code",
   "execution_count": 89,
   "metadata": {},
   "outputs": [
    {
     "data": {
      "text/html": [
       "<div>\n",
       "<style scoped>\n",
       "    .dataframe tbody tr th:only-of-type {\n",
       "        vertical-align: middle;\n",
       "    }\n",
       "\n",
       "    .dataframe tbody tr th {\n",
       "        vertical-align: top;\n",
       "    }\n",
       "\n",
       "    .dataframe thead th {\n",
       "        text-align: right;\n",
       "    }\n",
       "</style>\n",
       "<table border=\"1\" class=\"dataframe\">\n",
       "  <thead>\n",
       "    <tr style=\"text-align: right;\">\n",
       "      <th></th>\n",
       "      <th>timestamp</th>\n",
       "      <th>buyer</th>\n",
       "      <th>seller</th>\n",
       "      <th>symbol</th>\n",
       "      <th>currency</th>\n",
       "      <th>price</th>\n",
       "      <th>quantity</th>\n",
       "    </tr>\n",
       "  </thead>\n",
       "  <tbody>\n",
       "    <tr>\n",
       "      <th>2</th>\n",
       "      <td>200</td>\n",
       "      <td>Vinnie</td>\n",
       "      <td>Rhianna</td>\n",
       "      <td>ROSES</td>\n",
       "      <td>SEASHELLS</td>\n",
       "      <td>15000.0</td>\n",
       "      <td>3</td>\n",
       "    </tr>\n",
       "    <tr>\n",
       "      <th>90</th>\n",
       "      <td>21800</td>\n",
       "      <td>Vladimir</td>\n",
       "      <td>Rhianna</td>\n",
       "      <td>GIFT_BASKET</td>\n",
       "      <td>SEASHELLS</td>\n",
       "      <td>71403.0</td>\n",
       "      <td>4</td>\n",
       "    </tr>\n",
       "    <tr>\n",
       "      <th>92</th>\n",
       "      <td>21800</td>\n",
       "      <td>Vinnie</td>\n",
       "      <td>Rhianna</td>\n",
       "      <td>GIFT_BASKET</td>\n",
       "      <td>SEASHELLS</td>\n",
       "      <td>71404.0</td>\n",
       "      <td>1</td>\n",
       "    </tr>\n",
       "    <tr>\n",
       "      <th>109</th>\n",
       "      <td>27700</td>\n",
       "      <td>Vinnie</td>\n",
       "      <td>Rhianna</td>\n",
       "      <td>GIFT_BASKET</td>\n",
       "      <td>SEASHELLS</td>\n",
       "      <td>71402.0</td>\n",
       "      <td>2</td>\n",
       "    </tr>\n",
       "    <tr>\n",
       "      <th>110</th>\n",
       "      <td>27700</td>\n",
       "      <td>Vladimir</td>\n",
       "      <td>Rhianna</td>\n",
       "      <td>GIFT_BASKET</td>\n",
       "      <td>SEASHELLS</td>\n",
       "      <td>71402.0</td>\n",
       "      <td>4</td>\n",
       "    </tr>\n",
       "    <tr>\n",
       "      <th>...</th>\n",
       "      <td>...</td>\n",
       "      <td>...</td>\n",
       "      <td>...</td>\n",
       "      <td>...</td>\n",
       "      <td>...</td>\n",
       "      <td>...</td>\n",
       "      <td>...</td>\n",
       "    </tr>\n",
       "    <tr>\n",
       "      <th>11171</th>\n",
       "      <td>944300</td>\n",
       "      <td>Vladimir</td>\n",
       "      <td>Rhianna</td>\n",
       "      <td>GIFT_BASKET</td>\n",
       "      <td>SEASHELLS</td>\n",
       "      <td>69517.0</td>\n",
       "      <td>4</td>\n",
       "    </tr>\n",
       "    <tr>\n",
       "      <th>11181</th>\n",
       "      <td>948100</td>\n",
       "      <td>Vladimir</td>\n",
       "      <td>Rhianna</td>\n",
       "      <td>GIFT_BASKET</td>\n",
       "      <td>SEASHELLS</td>\n",
       "      <td>69634.0</td>\n",
       "      <td>3</td>\n",
       "    </tr>\n",
       "    <tr>\n",
       "      <th>11276</th>\n",
       "      <td>974200</td>\n",
       "      <td>Vladimir</td>\n",
       "      <td>Rhianna</td>\n",
       "      <td>GIFT_BASKET</td>\n",
       "      <td>SEASHELLS</td>\n",
       "      <td>69682.0</td>\n",
       "      <td>6</td>\n",
       "    </tr>\n",
       "    <tr>\n",
       "      <th>11277</th>\n",
       "      <td>974200</td>\n",
       "      <td>Vinnie</td>\n",
       "      <td>Rhianna</td>\n",
       "      <td>GIFT_BASKET</td>\n",
       "      <td>SEASHELLS</td>\n",
       "      <td>69683.0</td>\n",
       "      <td>1</td>\n",
       "    </tr>\n",
       "    <tr>\n",
       "      <th>11358</th>\n",
       "      <td>996300</td>\n",
       "      <td>Vinnie</td>\n",
       "      <td>Rhianna</td>\n",
       "      <td>GIFT_BASKET</td>\n",
       "      <td>SEASHELLS</td>\n",
       "      <td>69480.0</td>\n",
       "      <td>1</td>\n",
       "    </tr>\n",
       "  </tbody>\n",
       "</table>\n",
       "<p>595 rows × 7 columns</p>\n",
       "</div>"
      ],
      "text/plain": [
       "       timestamp     buyer   seller       symbol   currency    price  quantity\n",
       "2            200    Vinnie  Rhianna        ROSES  SEASHELLS  15000.0         3\n",
       "90         21800  Vladimir  Rhianna  GIFT_BASKET  SEASHELLS  71403.0         4\n",
       "92         21800    Vinnie  Rhianna  GIFT_BASKET  SEASHELLS  71404.0         1\n",
       "109        27700    Vinnie  Rhianna  GIFT_BASKET  SEASHELLS  71402.0         2\n",
       "110        27700  Vladimir  Rhianna  GIFT_BASKET  SEASHELLS  71402.0         4\n",
       "...          ...       ...      ...          ...        ...      ...       ...\n",
       "11171     944300  Vladimir  Rhianna  GIFT_BASKET  SEASHELLS  69517.0         4\n",
       "11181     948100  Vladimir  Rhianna  GIFT_BASKET  SEASHELLS  69634.0         3\n",
       "11276     974200  Vladimir  Rhianna  GIFT_BASKET  SEASHELLS  69682.0         6\n",
       "11277     974200    Vinnie  Rhianna  GIFT_BASKET  SEASHELLS  69683.0         1\n",
       "11358     996300    Vinnie  Rhianna  GIFT_BASKET  SEASHELLS  69480.0         1\n",
       "\n",
       "[595 rows x 7 columns]"
      ]
     },
     "execution_count": 89,
     "metadata": {},
     "output_type": "execute_result"
    }
   ],
   "source": [
    "rhianna"
   ]
  },
  {
   "cell_type": "code",
   "execution_count": 90,
   "metadata": {},
   "outputs": [
    {
     "data": {
      "text/plain": [
       "<Axes: >"
      ]
     },
     "execution_count": 90,
     "metadata": {},
     "output_type": "execute_result"
    },
    {
     "data": {
      "image/png": "[encoded data removed]",
      "text/plain": [
       "<Figure size 432x288 with 1 Axes>"
      ]
     },
     "metadata": {
      "needs_background": "light"
     },
     "output_type": "display_data"
    }
   ],
   "source": [
    "rhianna[\"symbol\"].hist()"
   ]
  },
  {
   "cell_type": "markdown",
   "metadata": {},
   "source": [
    "# Day 4 Analysis"
   ]
  },
  {
   "cell_type": "code",
   "execution_count": 69,
   "metadata": {},
   "outputs": [],
   "source": [
    "data7 = pd.read_csv(path7, delimiter=\";\", parse_dates=True)\n",
    "data8 = pd.read_csv(path8, delimiter=\";\", parse_dates=True)\n",
    "data9 = pd.read_csv(path9, delimiter=\";\", parse_dates=True)"
   ]
  },
  {
   "cell_type": "code",
   "execution_count": 71,
   "metadata": {},
   "outputs": [
    {
     "data": {
      "text/html": [
       "<div>\n",
       "<style scoped>\n",
       "    .dataframe tbody tr th:only-of-type {\n",
       "        vertical-align: middle;\n",
       "    }\n",
       "\n",
       "    .dataframe tbody tr th {\n",
       "        vertical-align: top;\n",
       "    }\n",
       "\n",
       "    .dataframe thead th {\n",
       "        text-align: right;\n",
       "    }\n",
       "</style>\n",
       "<table border=\"1\" class=\"dataframe\">\n",
       "  <thead>\n",
       "    <tr style=\"text-align: right;\">\n",
       "      <th></th>\n",
       "      <th>timestamp</th>\n",
       "      <th>buyer</th>\n",
       "      <th>seller</th>\n",
       "      <th>symbol</th>\n",
       "      <th>currency</th>\n",
       "      <th>price</th>\n",
       "      <th>quantity</th>\n",
       "    </tr>\n",
       "  </thead>\n",
       "  <tbody>\n",
       "    <tr>\n",
       "      <th>0</th>\n",
       "      <td>800</td>\n",
       "      <td>Valentina</td>\n",
       "      <td>Valentina</td>\n",
       "      <td>COCONUT_COUPON</td>\n",
       "      <td>SEASHELLS</td>\n",
       "      <td>636.0</td>\n",
       "      <td>5</td>\n",
       "    </tr>\n",
       "    <tr>\n",
       "      <th>1</th>\n",
       "      <td>900</td>\n",
       "      <td>Valentina</td>\n",
       "      <td>Vinnie</td>\n",
       "      <td>COCONUT_COUPON</td>\n",
       "      <td>SEASHELLS</td>\n",
       "      <td>634.0</td>\n",
       "      <td>17</td>\n",
       "    </tr>\n",
       "    <tr>\n",
       "      <th>2</th>\n",
       "      <td>1100</td>\n",
       "      <td>Valentina</td>\n",
       "      <td>Ruby</td>\n",
       "      <td>COCONUT_COUPON</td>\n",
       "      <td>SEASHELLS</td>\n",
       "      <td>635.0</td>\n",
       "      <td>17</td>\n",
       "    </tr>\n",
       "    <tr>\n",
       "      <th>3</th>\n",
       "      <td>1900</td>\n",
       "      <td>Valentina</td>\n",
       "      <td>Vinnie</td>\n",
       "      <td>COCONUT_COUPON</td>\n",
       "      <td>SEASHELLS</td>\n",
       "      <td>635.0</td>\n",
       "      <td>16</td>\n",
       "    </tr>\n",
       "    <tr>\n",
       "      <th>4</th>\n",
       "      <td>2000</td>\n",
       "      <td>Valentina</td>\n",
       "      <td>Vinnie</td>\n",
       "      <td>COCONUT_COUPON</td>\n",
       "      <td>SEASHELLS</td>\n",
       "      <td>637.0</td>\n",
       "      <td>14</td>\n",
       "    </tr>\n",
       "    <tr>\n",
       "      <th>...</th>\n",
       "      <td>...</td>\n",
       "      <td>...</td>\n",
       "      <td>...</td>\n",
       "      <td>...</td>\n",
       "      <td>...</td>\n",
       "      <td>...</td>\n",
       "      <td>...</td>\n",
       "    </tr>\n",
       "    <tr>\n",
       "      <th>5124</th>\n",
       "      <td>996200</td>\n",
       "      <td>Valentina</td>\n",
       "      <td>Vinnie</td>\n",
       "      <td>COCONUT_COUPON</td>\n",
       "      <td>SEASHELLS</td>\n",
       "      <td>585.0</td>\n",
       "      <td>14</td>\n",
       "    </tr>\n",
       "    <tr>\n",
       "      <th>5125</th>\n",
       "      <td>997100</td>\n",
       "      <td>Vinnie</td>\n",
       "      <td>Vinnie</td>\n",
       "      <td>COCONUT</td>\n",
       "      <td>SEASHELLS</td>\n",
       "      <td>9885.0</td>\n",
       "      <td>9</td>\n",
       "    </tr>\n",
       "    <tr>\n",
       "      <th>5126</th>\n",
       "      <td>997200</td>\n",
       "      <td>Vinnie</td>\n",
       "      <td>Vinnie</td>\n",
       "      <td>COCONUT</td>\n",
       "      <td>SEASHELLS</td>\n",
       "      <td>9883.0</td>\n",
       "      <td>8</td>\n",
       "    </tr>\n",
       "    <tr>\n",
       "      <th>5127</th>\n",
       "      <td>998600</td>\n",
       "      <td>Vinnie</td>\n",
       "      <td>Raj</td>\n",
       "      <td>COCONUT</td>\n",
       "      <td>SEASHELLS</td>\n",
       "      <td>9887.0</td>\n",
       "      <td>5</td>\n",
       "    </tr>\n",
       "    <tr>\n",
       "      <th>5128</th>\n",
       "      <td>999800</td>\n",
       "      <td>Valentina</td>\n",
       "      <td>Rhianna</td>\n",
       "      <td>COCONUT_COUPON</td>\n",
       "      <td>SEASHELLS</td>\n",
       "      <td>575.0</td>\n",
       "      <td>14</td>\n",
       "    </tr>\n",
       "  </tbody>\n",
       "</table>\n",
       "<p>5129 rows × 7 columns</p>\n",
       "</div>"
      ],
      "text/plain": [
       "      timestamp      buyer     seller          symbol   currency   price  \\\n",
       "0           800  Valentina  Valentina  COCONUT_COUPON  SEASHELLS   636.0   \n",
       "1           900  Valentina     Vinnie  COCONUT_COUPON  SEASHELLS   634.0   \n",
       "2          1100  Valentina       Ruby  COCONUT_COUPON  SEASHELLS   635.0   \n",
       "3          1900  Valentina     Vinnie  COCONUT_COUPON  SEASHELLS   635.0   \n",
       "4          2000  Valentina     Vinnie  COCONUT_COUPON  SEASHELLS   637.0   \n",
       "...         ...        ...        ...             ...        ...     ...   \n",
       "5124     996200  Valentina     Vinnie  COCONUT_COUPON  SEASHELLS   585.0   \n",
       "5125     997100     Vinnie     Vinnie         COCONUT  SEASHELLS  9885.0   \n",
       "5126     997200     Vinnie     Vinnie         COCONUT  SEASHELLS  9883.0   \n",
       "5127     998600     Vinnie        Raj         COCONUT  SEASHELLS  9887.0   \n",
       "5128     999800  Valentina    Rhianna  COCONUT_COUPON  SEASHELLS   575.0   \n",
       "\n",
       "      quantity  \n",
       "0            5  \n",
       "1           17  \n",
       "2           17  \n",
       "3           16  \n",
       "4           14  \n",
       "...        ...  \n",
       "5124        14  \n",
       "5125         9  \n",
       "5126         8  \n",
       "5127         5  \n",
       "5128        14  \n",
       "\n",
       "[5129 rows x 7 columns]"
      ]
     },
     "execution_count": 71,
     "metadata": {},
     "output_type": "execute_result"
    }
   ],
   "source": [
    "day_4 = pd.concat([data7, data8, data9], ignore_index=True)\n",
    "day_4"
   ]
  },
  {
   "cell_type": "code",
   "execution_count": 84,
   "metadata": {},
   "outputs": [
    {
     "data": {
      "text/plain": [
       "<Axes: >"
      ]
     },
     "execution_count": 84,
     "metadata": {},
     "output_type": "execute_result"
    },
    {
     "data": {
      "image/png": "[encoded data removed]",
      "text/plain": [
       "<Figure size 432x288 with 1 Axes>"
      ]
     },
     "metadata": {
      "needs_background": "light"
     },
     "output_type": "display_data"
    }
   ],
   "source": [
    "day_4[\"buyer\"].hist()\n",
    "day_4[\"seller\"].hist()"
   ]
  },
  {
   "cell_type": "code",
   "execution_count": 80,
   "metadata": {},
   "outputs": [
    {
     "data": {
      "text/html": [
       "<div>\n",
       "<style scoped>\n",
       "    .dataframe tbody tr th:only-of-type {\n",
       "        vertical-align: middle;\n",
       "    }\n",
       "\n",
       "    .dataframe tbody tr th {\n",
       "        vertical-align: top;\n",
       "    }\n",
       "\n",
       "    .dataframe thead th {\n",
       "        text-align: right;\n",
       "    }\n",
       "</style>\n",
       "<table border=\"1\" class=\"dataframe\">\n",
       "  <thead>\n",
       "    <tr style=\"text-align: right;\">\n",
       "      <th></th>\n",
       "      <th>timestamp</th>\n",
       "      <th>buyer</th>\n",
       "      <th>seller</th>\n",
       "      <th>symbol</th>\n",
       "      <th>currency</th>\n",
       "      <th>price</th>\n",
       "      <th>quantity</th>\n",
       "    </tr>\n",
       "  </thead>\n",
       "  <tbody>\n",
       "    <tr>\n",
       "      <th>6</th>\n",
       "      <td>3900</td>\n",
       "      <td>Vinnie</td>\n",
       "      <td>Vinnie</td>\n",
       "      <td>COCONUT_COUPON</td>\n",
       "      <td>SEASHELLS</td>\n",
       "      <td>635.0</td>\n",
       "      <td>2</td>\n",
       "    </tr>\n",
       "    <tr>\n",
       "      <th>12</th>\n",
       "      <td>5200</td>\n",
       "      <td>Vinnie</td>\n",
       "      <td>Vinnie</td>\n",
       "      <td>COCONUT</td>\n",
       "      <td>SEASHELLS</td>\n",
       "      <td>9997.0</td>\n",
       "      <td>8</td>\n",
       "    </tr>\n",
       "    <tr>\n",
       "      <th>21</th>\n",
       "      <td>10900</td>\n",
       "      <td>Vinnie</td>\n",
       "      <td>Vinnie</td>\n",
       "      <td>COCONUT</td>\n",
       "      <td>SEASHELLS</td>\n",
       "      <td>10007.0</td>\n",
       "      <td>10</td>\n",
       "    </tr>\n",
       "    <tr>\n",
       "      <th>22</th>\n",
       "      <td>12500</td>\n",
       "      <td>Vinnie</td>\n",
       "      <td>Raj</td>\n",
       "      <td>COCONUT</td>\n",
       "      <td>SEASHELLS</td>\n",
       "      <td>10003.0</td>\n",
       "      <td>10</td>\n",
       "    </tr>\n",
       "    <tr>\n",
       "      <th>26</th>\n",
       "      <td>14900</td>\n",
       "      <td>Vinnie</td>\n",
       "      <td>Vinnie</td>\n",
       "      <td>COCONUT</td>\n",
       "      <td>SEASHELLS</td>\n",
       "      <td>10004.0</td>\n",
       "      <td>10</td>\n",
       "    </tr>\n",
       "    <tr>\n",
       "      <th>...</th>\n",
       "      <td>...</td>\n",
       "      <td>...</td>\n",
       "      <td>...</td>\n",
       "      <td>...</td>\n",
       "      <td>...</td>\n",
       "      <td>...</td>\n",
       "      <td>...</td>\n",
       "    </tr>\n",
       "    <tr>\n",
       "      <th>5122</th>\n",
       "      <td>994900</td>\n",
       "      <td>Vinnie</td>\n",
       "      <td>Vinnie</td>\n",
       "      <td>COCONUT</td>\n",
       "      <td>SEASHELLS</td>\n",
       "      <td>9885.0</td>\n",
       "      <td>9</td>\n",
       "    </tr>\n",
       "    <tr>\n",
       "      <th>5123</th>\n",
       "      <td>995500</td>\n",
       "      <td>Vinnie</td>\n",
       "      <td>Vinnie</td>\n",
       "      <td>COCONUT</td>\n",
       "      <td>SEASHELLS</td>\n",
       "      <td>9887.0</td>\n",
       "      <td>8</td>\n",
       "    </tr>\n",
       "    <tr>\n",
       "      <th>5125</th>\n",
       "      <td>997100</td>\n",
       "      <td>Vinnie</td>\n",
       "      <td>Vinnie</td>\n",
       "      <td>COCONUT</td>\n",
       "      <td>SEASHELLS</td>\n",
       "      <td>9885.0</td>\n",
       "      <td>9</td>\n",
       "    </tr>\n",
       "    <tr>\n",
       "      <th>5126</th>\n",
       "      <td>997200</td>\n",
       "      <td>Vinnie</td>\n",
       "      <td>Vinnie</td>\n",
       "      <td>COCONUT</td>\n",
       "      <td>SEASHELLS</td>\n",
       "      <td>9883.0</td>\n",
       "      <td>8</td>\n",
       "    </tr>\n",
       "    <tr>\n",
       "      <th>5127</th>\n",
       "      <td>998600</td>\n",
       "      <td>Vinnie</td>\n",
       "      <td>Raj</td>\n",
       "      <td>COCONUT</td>\n",
       "      <td>SEASHELLS</td>\n",
       "      <td>9887.0</td>\n",
       "      <td>5</td>\n",
       "    </tr>\n",
       "  </tbody>\n",
       "</table>\n",
       "<p>1603 rows × 7 columns</p>\n",
       "</div>"
      ],
      "text/plain": [
       "      timestamp   buyer  seller          symbol   currency    price  quantity\n",
       "6          3900  Vinnie  Vinnie  COCONUT_COUPON  SEASHELLS    635.0         2\n",
       "12         5200  Vinnie  Vinnie         COCONUT  SEASHELLS   9997.0         8\n",
       "21        10900  Vinnie  Vinnie         COCONUT  SEASHELLS  10007.0        10\n",
       "22        12500  Vinnie     Raj         COCONUT  SEASHELLS  10003.0        10\n",
       "26        14900  Vinnie  Vinnie         COCONUT  SEASHELLS  10004.0        10\n",
       "...         ...     ...     ...             ...        ...      ...       ...\n",
       "5122     994900  Vinnie  Vinnie         COCONUT  SEASHELLS   9885.0         9\n",
       "5123     995500  Vinnie  Vinnie         COCONUT  SEASHELLS   9887.0         8\n",
       "5125     997100  Vinnie  Vinnie         COCONUT  SEASHELLS   9885.0         9\n",
       "5126     997200  Vinnie  Vinnie         COCONUT  SEASHELLS   9883.0         8\n",
       "5127     998600  Vinnie     Raj         COCONUT  SEASHELLS   9887.0         5\n",
       "\n",
       "[1603 rows x 7 columns]"
      ]
     },
     "execution_count": 80,
     "metadata": {},
     "output_type": "execute_result"
    }
   ],
   "source": [
    "vinnie_4 = day_4[day_4[\"buyer\"] == \"Vinnie\"]\n",
    "valentina_4 = day_4[day_4[\"buyer\"] == \"Valentina\"]\n",
    "ruby_4 = day_4[day_4[\"buyer\"] == \"Ruby\"]\n",
    "vinnie_4"
   ]
  },
  {
   "cell_type": "code",
   "execution_count": 81,
   "metadata": {},
   "outputs": [
    {
     "data": {
      "text/html": [
       "<div>\n",
       "<style scoped>\n",
       "    .dataframe tbody tr th:only-of-type {\n",
       "        vertical-align: middle;\n",
       "    }\n",
       "\n",
       "    .dataframe tbody tr th {\n",
       "        vertical-align: top;\n",
       "    }\n",
       "\n",
       "    .dataframe thead th {\n",
       "        text-align: right;\n",
       "    }\n",
       "</style>\n",
       "<table border=\"1\" class=\"dataframe\">\n",
       "  <thead>\n",
       "    <tr style=\"text-align: right;\">\n",
       "      <th></th>\n",
       "      <th>timestamp</th>\n",
       "      <th>buyer</th>\n",
       "      <th>seller</th>\n",
       "      <th>symbol</th>\n",
       "      <th>currency</th>\n",
       "      <th>price</th>\n",
       "      <th>quantity</th>\n",
       "    </tr>\n",
       "  </thead>\n",
       "  <tbody>\n",
       "    <tr>\n",
       "      <th>0</th>\n",
       "      <td>800</td>\n",
       "      <td>Valentina</td>\n",
       "      <td>Valentina</td>\n",
       "      <td>COCONUT_COUPON</td>\n",
       "      <td>SEASHELLS</td>\n",
       "      <td>636.0</td>\n",
       "      <td>5</td>\n",
       "    </tr>\n",
       "    <tr>\n",
       "      <th>1</th>\n",
       "      <td>900</td>\n",
       "      <td>Valentina</td>\n",
       "      <td>Vinnie</td>\n",
       "      <td>COCONUT_COUPON</td>\n",
       "      <td>SEASHELLS</td>\n",
       "      <td>634.0</td>\n",
       "      <td>17</td>\n",
       "    </tr>\n",
       "    <tr>\n",
       "      <th>2</th>\n",
       "      <td>1100</td>\n",
       "      <td>Valentina</td>\n",
       "      <td>Ruby</td>\n",
       "      <td>COCONUT_COUPON</td>\n",
       "      <td>SEASHELLS</td>\n",
       "      <td>635.0</td>\n",
       "      <td>17</td>\n",
       "    </tr>\n",
       "    <tr>\n",
       "      <th>3</th>\n",
       "      <td>1900</td>\n",
       "      <td>Valentina</td>\n",
       "      <td>Vinnie</td>\n",
       "      <td>COCONUT_COUPON</td>\n",
       "      <td>SEASHELLS</td>\n",
       "      <td>635.0</td>\n",
       "      <td>16</td>\n",
       "    </tr>\n",
       "    <tr>\n",
       "      <th>4</th>\n",
       "      <td>2000</td>\n",
       "      <td>Valentina</td>\n",
       "      <td>Vinnie</td>\n",
       "      <td>COCONUT_COUPON</td>\n",
       "      <td>SEASHELLS</td>\n",
       "      <td>637.0</td>\n",
       "      <td>14</td>\n",
       "    </tr>\n",
       "    <tr>\n",
       "      <th>...</th>\n",
       "      <td>...</td>\n",
       "      <td>...</td>\n",
       "      <td>...</td>\n",
       "      <td>...</td>\n",
       "      <td>...</td>\n",
       "      <td>...</td>\n",
       "      <td>...</td>\n",
       "    </tr>\n",
       "    <tr>\n",
       "      <th>5114</th>\n",
       "      <td>992300</td>\n",
       "      <td>Valentina</td>\n",
       "      <td>Valentina</td>\n",
       "      <td>COCONUT_COUPON</td>\n",
       "      <td>SEASHELLS</td>\n",
       "      <td>575.0</td>\n",
       "      <td>6</td>\n",
       "    </tr>\n",
       "    <tr>\n",
       "      <th>5115</th>\n",
       "      <td>992600</td>\n",
       "      <td>Valentina</td>\n",
       "      <td>Ruby</td>\n",
       "      <td>COCONUT_COUPON</td>\n",
       "      <td>SEASHELLS</td>\n",
       "      <td>574.0</td>\n",
       "      <td>14</td>\n",
       "    </tr>\n",
       "    <tr>\n",
       "      <th>5116</th>\n",
       "      <td>992900</td>\n",
       "      <td>Valentina</td>\n",
       "      <td>Vinnie</td>\n",
       "      <td>COCONUT_COUPON</td>\n",
       "      <td>SEASHELLS</td>\n",
       "      <td>577.0</td>\n",
       "      <td>14</td>\n",
       "    </tr>\n",
       "    <tr>\n",
       "      <th>5124</th>\n",
       "      <td>996200</td>\n",
       "      <td>Valentina</td>\n",
       "      <td>Vinnie</td>\n",
       "      <td>COCONUT_COUPON</td>\n",
       "      <td>SEASHELLS</td>\n",
       "      <td>585.0</td>\n",
       "      <td>14</td>\n",
       "    </tr>\n",
       "    <tr>\n",
       "      <th>5128</th>\n",
       "      <td>999800</td>\n",
       "      <td>Valentina</td>\n",
       "      <td>Rhianna</td>\n",
       "      <td>COCONUT_COUPON</td>\n",
       "      <td>SEASHELLS</td>\n",
       "      <td>575.0</td>\n",
       "      <td>14</td>\n",
       "    </tr>\n",
       "  </tbody>\n",
       "</table>\n",
       "<p>2531 rows × 7 columns</p>\n",
       "</div>"
      ],
      "text/plain": [
       "      timestamp      buyer     seller          symbol   currency  price  \\\n",
       "0           800  Valentina  Valentina  COCONUT_COUPON  SEASHELLS  636.0   \n",
       "1           900  Valentina     Vinnie  COCONUT_COUPON  SEASHELLS  634.0   \n",
       "2          1100  Valentina       Ruby  COCONUT_COUPON  SEASHELLS  635.0   \n",
       "3          1900  Valentina     Vinnie  COCONUT_COUPON  SEASHELLS  635.0   \n",
       "4          2000  Valentina     Vinnie  COCONUT_COUPON  SEASHELLS  637.0   \n",
       "...         ...        ...        ...             ...        ...    ...   \n",
       "5114     992300  Valentina  Valentina  COCONUT_COUPON  SEASHELLS  575.0   \n",
       "5115     992600  Valentina       Ruby  COCONUT_COUPON  SEASHELLS  574.0   \n",
       "5116     992900  Valentina     Vinnie  COCONUT_COUPON  SEASHELLS  577.0   \n",
       "5124     996200  Valentina     Vinnie  COCONUT_COUPON  SEASHELLS  585.0   \n",
       "5128     999800  Valentina    Rhianna  COCONUT_COUPON  SEASHELLS  575.0   \n",
       "\n",
       "      quantity  \n",
       "0            5  \n",
       "1           17  \n",
       "2           17  \n",
       "3           16  \n",
       "4           14  \n",
       "...        ...  \n",
       "5114         6  \n",
       "5115        14  \n",
       "5116        14  \n",
       "5124        14  \n",
       "5128        14  \n",
       "\n",
       "[2531 rows x 7 columns]"
      ]
     },
     "execution_count": 81,
     "metadata": {},
     "output_type": "execute_result"
    }
   ],
   "source": [
    "valentina_4"
   ]
  },
  {
   "cell_type": "code",
   "execution_count": 82,
   "metadata": {},
   "outputs": [
    {
     "data": {
      "text/plain": [
       "<Axes: >"
      ]
     },
     "execution_count": 82,
     "metadata": {},
     "output_type": "execute_result"
    },
    {
     "data": {
      "image/png": "[encoded data removed]",
      "text/plain": [
       "<Figure size 432x288 with 1 Axes>"
      ]
     },
     "metadata": {
      "needs_background": "light"
     },
     "output_type": "display_data"
    }
   ],
   "source": [
    "valentina_4[\"symbol\"].hist()"
   ]
  },
  {
   "cell_type": "code",
   "execution_count": 83,
   "metadata": {},
   "outputs": [
    {
     "data": {
      "text/plain": [
       "<Axes: >"
      ]
     },
     "execution_count": 83,
     "metadata": {},
     "output_type": "execute_result"
    },
    {
     "data": {
      "image/png": "[encoded data removed]",
      "text/plain": [
       "<Figure size 432x288 with 1 Axes>"
      ]
     },
     "metadata": {
      "needs_background": "light"
     },
     "output_type": "display_data"
    }
   ],
   "source": [
    "vinnie_4[\"symbol\"].hist()"
   ]
  },
  {
   "cell_type": "code",
   "execution_count": null,
   "metadata": {},
   "outputs": [],
   "source": []
  }
 ],
 "metadata": {
  "kernelspec": {
   "display_name": "Python 3",
   "language": "python",
   "name": "python3"
  },
  "language_info": {
   "codemirror_mode": {
    "name": "ipython",
    "version": 3
   },
   "file_extension": ".py",
   "mimetype": "text/x-python",
   "name": "python",
   "nbconvert_exporter": "python",
   "pygments_lexer": "ipython3",
   "version": "3.10.5"
  }
 },
 "nbformat": 4,
 "nbformat_minor": 2
}
