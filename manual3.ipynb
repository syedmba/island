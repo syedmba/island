{
 "cells": [
  {
   "cell_type": "code",
   "execution_count": null,
   "metadata": {},
   "outputs": [],
   "source": []
  },
  {
   "cell_type": "markdown",
   "metadata": {},
   "source": [
    "# Manual Challenge 3\n",
    "## Thoughts and Ideas"
   ]
  },
  {
   "cell_type": "markdown",
   "metadata": {},
   "source": [
    "### coordinates go from G to K from up to down and from 26 to 30 from left to right"
   ]
  },
  {
   "cell_type": "code",
   "execution_count": null,
   "metadata": {},
   "outputs": [],
   "source": [
    "map = [[[24, 2], [70, 4], [41, 3], [21, 2], [60, 4]], \n",
    "       [[47, 3], [82, 5], [87,5], [80, 5], [35, 3]],\n",
    "       [[73, 4], [89, 5], [100,8], [90, 7], [17, 2]],\n",
    "       [[77, 5], [83, 5], [85,5], [79, 5], [55, 4]],\n",
    "       [[12, 2], [27, 3], [52,4], [15, 2], [30, 3]]]"
   ]
  }
 ],
 "metadata": {
  "language_info": {
   "name": "python"
  }
 },
 "nbformat": 4,
 "nbformat_minor": 2
}
